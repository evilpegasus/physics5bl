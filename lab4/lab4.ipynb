{
 "cells": [
  {
   "cell_type": "markdown",
   "source": [
    "# Lab 4\r\n",
    "Ming Fong"
   ],
   "metadata": {}
  },
  {
   "cell_type": "code",
   "execution_count": 1,
   "source": [
    "import pandas as pd\r\n",
    "import numpy as np\r\n",
    "import matplotlib.pyplot as plt"
   ],
   "outputs": [],
   "metadata": {}
  },
  {
   "cell_type": "code",
   "execution_count": 29,
   "source": [
    "df = pd.read_csv(\"data\\Physics 5BL Lab 4.csv\", index_col=0)\r\n",
    "df\r\n",
    "g = 9.8"
   ],
   "outputs": [],
   "metadata": {}
  },
  {
   "cell_type": "markdown",
   "source": [
    "# Filling in tables "
   ],
   "metadata": {}
  },
  {
   "cell_type": "code",
   "execution_count": 9,
   "source": [
    "df.mean()"
   ],
   "outputs": [
    {
     "output_type": "execute_result",
     "data": {
      "text/plain": [
       "0       7.285\n",
       "50      8.293\n",
       "100    12.001\n",
       "150    15.797\n",
       "200    19.603\n",
       "225    21.452\n",
       "250    23.426\n",
       "dtype: float64"
      ]
     },
     "metadata": {},
     "execution_count": 9
    }
   ],
   "metadata": {}
  },
  {
   "cell_type": "code",
   "execution_count": 10,
   "source": [
    "df.std()"
   ],
   "outputs": [
    {
     "output_type": "execute_result",
     "data": {
      "text/plain": [
       "0      0.076048\n",
       "50     0.065498\n",
       "100    0.054252\n",
       "150    0.057745\n",
       "200    0.035917\n",
       "225    0.137178\n",
       "250    0.086692\n",
       "dtype: float64"
      ]
     },
     "metadata": {},
     "execution_count": 10
    }
   ],
   "metadata": {}
  },
  {
   "cell_type": "code",
   "execution_count": 11,
   "source": [
    "df.sem()"
   ],
   "outputs": [
    {
     "output_type": "execute_result",
     "data": {
      "text/plain": [
       "0      0.024049\n",
       "50     0.020712\n",
       "100    0.017156\n",
       "150    0.018260\n",
       "200    0.011358\n",
       "225    0.043379\n",
       "250    0.027415\n",
       "dtype: float64"
      ]
     },
     "metadata": {},
     "execution_count": 11
    }
   ],
   "metadata": {}
  },
  {
   "cell_type": "code",
   "execution_count": 21,
   "source": [
    "(df.mean() - df[\"0\"].mean()).round(5)"
   ],
   "outputs": [
    {
     "output_type": "execute_result",
     "data": {
      "text/plain": [
       "0       0.000\n",
       "50      1.008\n",
       "100     4.716\n",
       "150     8.512\n",
       "200    12.318\n",
       "225    14.167\n",
       "250    16.141\n",
       "dtype: float64"
      ]
     },
     "metadata": {},
     "execution_count": 21
    }
   ],
   "metadata": {}
  },
  {
   "cell_type": "code",
   "execution_count": 27,
   "source": [
    "print(50/1000 * 9.800 / (1.008/100))\r\n",
    "print(250/1000 * 9.800 / (16.141/100))\r\n",
    "(50/1000 * 9.800 / (1.008/100) + 250/1000 * 9.800 / (16.141/100)) / 2"
   ],
   "outputs": [
    {
     "output_type": "stream",
     "name": "stdout",
     "text": [
      "48.611111111111114\n",
      "15.17873737686637\n"
     ]
    },
    {
     "output_type": "execute_result",
     "data": {
      "text/plain": [
       "31.89492424398874"
      ]
     },
     "metadata": {},
     "execution_count": 27
    }
   ],
   "metadata": {}
  },
  {
   "cell_type": "markdown",
   "source": [
    "# Analysis"
   ],
   "metadata": {}
  },
  {
   "cell_type": "code",
   "execution_count": 115,
   "source": [
    "delta_l_df = df - df[\"0\"].mean()\r\n",
    "delta_l_df.columns = delta_l_df.columns.astype(int)\r\n",
    "delta_l_df.columns = delta_l_df.columns / 1000\r\n",
    "delta_l_df = delta_l_df.drop(0.000, axis=1)\r\n",
    "delta_l_df = delta_l_df / 100\r\n",
    "delta_l_df"
   ],
   "outputs": [
    {
     "output_type": "execute_result",
     "data": {
      "text/html": [
       "<div>\n",
       "<style scoped>\n",
       "    .dataframe tbody tr th:only-of-type {\n",
       "        vertical-align: middle;\n",
       "    }\n",
       "\n",
       "    .dataframe tbody tr th {\n",
       "        vertical-align: top;\n",
       "    }\n",
       "\n",
       "    .dataframe thead th {\n",
       "        text-align: right;\n",
       "    }\n",
       "</style>\n",
       "<table border=\"1\" class=\"dataframe\">\n",
       "  <thead>\n",
       "    <tr style=\"text-align: right;\">\n",
       "      <th></th>\n",
       "      <th>0.050</th>\n",
       "      <th>0.100</th>\n",
       "      <th>0.150</th>\n",
       "      <th>0.200</th>\n",
       "      <th>0.225</th>\n",
       "      <th>0.250</th>\n",
       "    </tr>\n",
       "    <tr>\n",
       "      <th>Trial</th>\n",
       "      <th></th>\n",
       "      <th></th>\n",
       "      <th></th>\n",
       "      <th></th>\n",
       "      <th></th>\n",
       "      <th></th>\n",
       "    </tr>\n",
       "  </thead>\n",
       "  <tbody>\n",
       "    <tr>\n",
       "      <th>1</th>\n",
       "      <td>0.01005</td>\n",
       "      <td>0.04705</td>\n",
       "      <td>0.08465</td>\n",
       "      <td>0.12315</td>\n",
       "      <td>0.14225</td>\n",
       "      <td>0.16215</td>\n",
       "    </tr>\n",
       "    <tr>\n",
       "      <th>2</th>\n",
       "      <td>0.00955</td>\n",
       "      <td>0.04665</td>\n",
       "      <td>0.08565</td>\n",
       "      <td>0.12295</td>\n",
       "      <td>0.14315</td>\n",
       "      <td>0.16175</td>\n",
       "    </tr>\n",
       "    <tr>\n",
       "      <th>3</th>\n",
       "      <td>0.00995</td>\n",
       "      <td>0.04635</td>\n",
       "      <td>0.08585</td>\n",
       "      <td>0.12335</td>\n",
       "      <td>0.14245</td>\n",
       "      <td>0.16265</td>\n",
       "    </tr>\n",
       "    <tr>\n",
       "      <th>4</th>\n",
       "      <td>0.01005</td>\n",
       "      <td>0.04715</td>\n",
       "      <td>0.08525</td>\n",
       "      <td>0.12315</td>\n",
       "      <td>0.14295</td>\n",
       "      <td>0.16235</td>\n",
       "    </tr>\n",
       "    <tr>\n",
       "      <th>5</th>\n",
       "      <td>0.00945</td>\n",
       "      <td>0.04715</td>\n",
       "      <td>0.08505</td>\n",
       "      <td>0.12345</td>\n",
       "      <td>0.14315</td>\n",
       "      <td>0.16195</td>\n",
       "    </tr>\n",
       "    <tr>\n",
       "      <th>6</th>\n",
       "      <td>0.01165</td>\n",
       "      <td>0.04815</td>\n",
       "      <td>0.08465</td>\n",
       "      <td>0.12265</td>\n",
       "      <td>0.13915</td>\n",
       "      <td>0.16065</td>\n",
       "    </tr>\n",
       "    <tr>\n",
       "      <th>7</th>\n",
       "      <td>0.00965</td>\n",
       "      <td>0.04715</td>\n",
       "      <td>0.08465</td>\n",
       "      <td>0.12265</td>\n",
       "      <td>0.14065</td>\n",
       "      <td>0.16015</td>\n",
       "    </tr>\n",
       "    <tr>\n",
       "      <th>8</th>\n",
       "      <td>0.01015</td>\n",
       "      <td>0.04765</td>\n",
       "      <td>0.08415</td>\n",
       "      <td>0.12365</td>\n",
       "      <td>0.14015</td>\n",
       "      <td>0.16065</td>\n",
       "    </tr>\n",
       "    <tr>\n",
       "      <th>9</th>\n",
       "      <td>0.01065</td>\n",
       "      <td>0.04665</td>\n",
       "      <td>0.08565</td>\n",
       "      <td>0.12315</td>\n",
       "      <td>0.14165</td>\n",
       "      <td>0.16065</td>\n",
       "    </tr>\n",
       "    <tr>\n",
       "      <th>10</th>\n",
       "      <td>0.00965</td>\n",
       "      <td>0.04765</td>\n",
       "      <td>0.08565</td>\n",
       "      <td>0.12365</td>\n",
       "      <td>0.14115</td>\n",
       "      <td>0.16115</td>\n",
       "    </tr>\n",
       "  </tbody>\n",
       "</table>\n",
       "</div>"
      ],
      "text/plain": [
       "         0.050    0.100    0.150    0.200    0.225    0.250\n",
       "Trial                                                      \n",
       "1      0.01005  0.04705  0.08465  0.12315  0.14225  0.16215\n",
       "2      0.00955  0.04665  0.08565  0.12295  0.14315  0.16175\n",
       "3      0.00995  0.04635  0.08585  0.12335  0.14245  0.16265\n",
       "4      0.01005  0.04715  0.08525  0.12315  0.14295  0.16235\n",
       "5      0.00945  0.04715  0.08505  0.12345  0.14315  0.16195\n",
       "6      0.01165  0.04815  0.08465  0.12265  0.13915  0.16065\n",
       "7      0.00965  0.04715  0.08465  0.12265  0.14065  0.16015\n",
       "8      0.01015  0.04765  0.08415  0.12365  0.14015  0.16065\n",
       "9      0.01065  0.04665  0.08565  0.12315  0.14165  0.16065\n",
       "10     0.00965  0.04765  0.08565  0.12365  0.14115  0.16115"
      ]
     },
     "metadata": {},
     "execution_count": 115
    }
   ],
   "metadata": {}
  },
  {
   "cell_type": "code",
   "execution_count": 116,
   "source": [
    "delta_l_df.columns * g"
   ],
   "outputs": [
    {
     "output_type": "execute_result",
     "data": {
      "text/plain": [
       "Float64Index([0.49000000000000005, 0.9800000000000001, 1.47,\n",
       "              1.9600000000000002, 2.205, 2.45],\n",
       "             dtype='float64')"
      ]
     },
     "metadata": {},
     "execution_count": 116
    }
   ],
   "metadata": {}
  },
  {
   "cell_type": "code",
   "execution_count": 117,
   "source": [
    "delta_l_df.mean()"
   ],
   "outputs": [
    {
     "output_type": "execute_result",
     "data": {
      "text/plain": [
       "0.050    0.01008\n",
       "0.100    0.04716\n",
       "0.150    0.08512\n",
       "0.200    0.12318\n",
       "0.225    0.14167\n",
       "0.250    0.16141\n",
       "dtype: float64"
      ]
     },
     "metadata": {},
     "execution_count": 117
    }
   ],
   "metadata": {}
  },
  {
   "cell_type": "code",
   "execution_count": 70,
   "source": [
    "delta_l_df.sem()"
   ],
   "outputs": [
    {
     "output_type": "execute_result",
     "data": {
      "text/plain": [
       "0.050    0.020712\n",
       "0.100    0.017156\n",
       "0.150    0.018260\n",
       "0.200    0.011358\n",
       "0.225    0.043379\n",
       "0.250    0.027415\n",
       "dtype: float64"
      ]
     },
     "metadata": {},
     "execution_count": 70
    }
   ],
   "metadata": {}
  },
  {
   "cell_type": "code",
   "execution_count": 129,
   "source": [
    "# x_error =  [0.0] * len(delta_l_df.columns)\r\n",
    "y_error = delta_l_df.sem().values\r\n",
    "y_error"
   ],
   "outputs": [
    {
     "output_type": "execute_result",
     "data": {
      "text/plain": [
       "array([0.00020712, 0.00017156, 0.0001826 , 0.00011358, 0.00043379,\n",
       "       0.00027415])"
      ]
     },
     "metadata": {},
     "execution_count": 129
    }
   ],
   "metadata": {}
  },
  {
   "cell_type": "code",
   "execution_count": 130,
   "source": [
    "# delta_l_df.mean().plot()\r\n",
    "plt.figure(figsize=(8,6))\r\n",
    "plt.errorbar(\r\n",
    "    delta_l_df.columns * g, delta_l_df.mean(),\r\n",
    "    yerr=y_error,\r\n",
    "    ecolor=\"red\", barsabove=True,\r\n",
    "    capsize=3, capthick=1)\r\n",
    "plt.title(\"Change in spring length vs gravitational force\")\r\n",
    "plt.xlabel(\"Gravitational force (N)\")\r\n",
    "plt.ylabel(\"Change in spring length (m)\")"
   ],
   "outputs": [
    {
     "output_type": "execute_result",
     "data": {
      "text/plain": [
       "Text(0, 0.5, 'Change in spring length (m)')"
      ]
     },
     "metadata": {},
     "execution_count": 130
    },
    {
     "output_type": "display_data",
     "data": {
      "image/png": "[encoded data removed]",
      "text/plain": [
       "<Figure size 576x432 with 1 Axes>"
      ]
     },
     "metadata": {
      "needs_background": "light"
     }
    }
   ],
   "metadata": {}
  },
  {
   "cell_type": "code",
   "execution_count": 80,
   "source": [
    "plt.scatter(delta_l_df.columns, delta_l_df.mean())"
   ],
   "outputs": [
    {
     "output_type": "execute_result",
     "data": {
      "text/plain": [
       "<matplotlib.collections.PathCollection at 0x25b00472310>"
      ]
     },
     "metadata": {},
     "execution_count": 80
    },
    {
     "output_type": "display_data",
     "data": {
      "image/png": "[encoded data removed]",
      "text/plain": [
       "<Figure size 432x288 with 1 Axes>"
      ]
     },
     "metadata": {
      "needs_background": "light"
     }
    }
   ],
   "metadata": {}
  }
 ],
 "metadata": {
  "orig_nbformat": 4,
  "language_info": {
   "name": "python",
   "version": "3.8.0",
   "mimetype": "text/x-python",
   "codemirror_mode": {
    "name": "ipython",
    "version": 3
   },
   "pygments_lexer": "ipython3",
   "nbconvert_exporter": "python",
   "file_extension": ".py"
  },
  "kernelspec": {
   "name": "python3",
   "display_name": "Python 3.8.0 64-bit"
  },
  "interpreter": {
   "hash": "a5ed12b88d83e9ebd9e82383ea339d23f1309bcfd653b55c7d37b011d8608c91"
  }
 },
 "nbformat": 4,
 "nbformat_minor": 2
}