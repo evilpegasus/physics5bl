{
 "cells": [
  {
   "cell_type": "markdown",
   "metadata": {},
   "source": [
    "# Standing Waves Lab\n",
    "## Experiment 2\n",
    "### Ming Fong and Cameron Shotwell"
   ]
  },
  {
   "cell_type": "code",
   "execution_count": 18,
   "metadata": {},
   "outputs": [],
   "source": [
    "import pandas as pd\n",
    "import numpy as np\n",
    "import matplotlib.pyplot as plt\n",
    "from scipy.optimize import curve_fit"
   ]
  },
  {
   "cell_type": "code",
   "execution_count": 32,
   "metadata": {},
   "outputs": [],
   "source": [
    "df = pd.read_csv('data/Standing Waves Data - Sheet1.csv')\n",
    "df = df[[\"2_n\", \"2_m\", \"2_m_error\", \"2_L\", \"2_L_err\", \"2_string_l\", \"2_string_m\"]][:6]"
   ]
  },
  {
   "cell_type": "code",
   "execution_count": 62,
   "metadata": {},
   "outputs": [
    {
     "data": {
      "text/html": [
       "<div>\n",
       "<style scoped>\n",
       "    .dataframe tbody tr th:only-of-type {\n",
       "        vertical-align: middle;\n",
       "    }\n",
       "\n",
       "    .dataframe tbody tr th {\n",
       "        vertical-align: top;\n",
       "    }\n",
       "\n",
       "    .dataframe thead th {\n",
       "        text-align: right;\n",
       "    }\n",
       "</style>\n",
       "<table border=\"1\" class=\"dataframe\">\n",
       "  <thead>\n",
       "    <tr style=\"text-align: right;\">\n",
       "      <th></th>\n",
       "      <th>2_n</th>\n",
       "      <th>2_m</th>\n",
       "      <th>2_m_error</th>\n",
       "      <th>2_L</th>\n",
       "      <th>2_L_err</th>\n",
       "      <th>2_string_l</th>\n",
       "      <th>2_string_m</th>\n",
       "    </tr>\n",
       "  </thead>\n",
       "  <tbody>\n",
       "    <tr>\n",
       "      <th>0</th>\n",
       "      <td>2.0</td>\n",
       "      <td>0.518</td>\n",
       "      <td>0.005</td>\n",
       "      <td>1.48</td>\n",
       "      <td>0.05</td>\n",
       "      <td>2.983</td>\n",
       "      <td>0.013</td>\n",
       "    </tr>\n",
       "    <tr>\n",
       "      <th>1</th>\n",
       "      <td>3.0</td>\n",
       "      <td>0.300</td>\n",
       "      <td>0.005</td>\n",
       "      <td>NaN</td>\n",
       "      <td>NaN</td>\n",
       "      <td>NaN</td>\n",
       "      <td>NaN</td>\n",
       "    </tr>\n",
       "    <tr>\n",
       "      <th>2</th>\n",
       "      <td>4.0</td>\n",
       "      <td>0.199</td>\n",
       "      <td>0.005</td>\n",
       "      <td>NaN</td>\n",
       "      <td>NaN</td>\n",
       "      <td>NaN</td>\n",
       "      <td>NaN</td>\n",
       "    </tr>\n",
       "    <tr>\n",
       "      <th>3</th>\n",
       "      <td>5.0</td>\n",
       "      <td>0.130</td>\n",
       "      <td>0.005</td>\n",
       "      <td>NaN</td>\n",
       "      <td>NaN</td>\n",
       "      <td>NaN</td>\n",
       "      <td>NaN</td>\n",
       "    </tr>\n",
       "    <tr>\n",
       "      <th>4</th>\n",
       "      <td>6.0</td>\n",
       "      <td>0.095</td>\n",
       "      <td>0.005</td>\n",
       "      <td>NaN</td>\n",
       "      <td>NaN</td>\n",
       "      <td>NaN</td>\n",
       "      <td>NaN</td>\n",
       "    </tr>\n",
       "    <tr>\n",
       "      <th>5</th>\n",
       "      <td>7.0</td>\n",
       "      <td>0.067</td>\n",
       "      <td>0.005</td>\n",
       "      <td>NaN</td>\n",
       "      <td>NaN</td>\n",
       "      <td>NaN</td>\n",
       "      <td>NaN</td>\n",
       "    </tr>\n",
       "  </tbody>\n",
       "</table>\n",
       "</div>"
      ],
      "text/plain": [
       "   2_n    2_m  2_m_error   2_L  2_L_err  2_string_l  2_string_m\n",
       "0  2.0  0.518      0.005  1.48     0.05       2.983       0.013\n",
       "1  3.0  0.300      0.005   NaN      NaN         NaN         NaN\n",
       "2  4.0  0.199      0.005   NaN      NaN         NaN         NaN\n",
       "3  5.0  0.130      0.005   NaN      NaN         NaN         NaN\n",
       "4  6.0  0.095      0.005   NaN      NaN         NaN         NaN\n",
       "5  7.0  0.067      0.005   NaN      NaN         NaN         NaN"
      ]
     },
     "execution_count": 62,
     "metadata": {},
     "output_type": "execute_result"
    }
   ],
   "source": [
    "df"
   ]
  },
  {
   "cell_type": "code",
   "execution_count": 63,
   "metadata": {},
   "outputs": [
    {
     "data": {
      "text/plain": [
       "Text(0.5, 1.0, 'Mass vs Harmonic Number')"
      ]
     },
     "execution_count": 63,
     "metadata": {},
     "output_type": "execute_result"
    },
    {
     "data": {
      "image/png": "[encoded data removed]",
      "text/plain": [
       "<Figure size 576x432 with 1 Axes>"
      ]
     },
     "metadata": {
      "needs_background": "light"
     },
     "output_type": "display_data"
    }
   ],
   "source": [
    "plt.figure(figsize=(8,6))\n",
    "plt.scatter(df[\"2_n\"], df[\"2_m\"])\n",
    "plt.xlabel(\"Harmonic Number n\")\n",
    "plt.ylabel(\"Mass m (kg)\")\n",
    "plt.title(\"Mass vs Harmonic Number\")"
   ]
  },
  {
   "cell_type": "code",
   "execution_count": 73,
   "metadata": {},
   "outputs": [],
   "source": [
    "def func_to_fit(n, a):\n",
    "    return a*(n**2)"
   ]
  },
  {
   "cell_type": "code",
   "execution_count": 74,
   "metadata": {},
   "outputs": [
    {
     "name": "stdout",
     "output_type": "stream",
     "text": [
      "params[0.03100998]\n",
      "std_errs[0.00069266]\n"
     ]
    }
   ],
   "source": [
    "params, cov = curve_fit(func_to_fit, df[\"2_n\"], 1 / (df[\"2_m\"]*9.8))\n",
    "std_errs = np.sqrt(np.diag(cov))\n",
    "print(\"params\" + str(params))\n",
    "print(\"std_errs\" + str(std_errs))"
   ]
  },
  {
   "cell_type": "code",
   "execution_count": 76,
   "metadata": {},
   "outputs": [
    {
     "data": {
      "image/png": "[encoded data removed]",
      "text/plain": [
       "<Figure size 576x432 with 1 Axes>"
      ]
     },
     "metadata": {
      "needs_background": "light"
     },
     "output_type": "display_data"
    },
    {
     "name": "stdout",
     "output_type": "stream",
     "text": [
      "a = 0.031009982800092817 +/- 0.0006926620047465485\n"
     ]
    }
   ],
   "source": [
    "ypred = func_to_fit(df[\"2_n\"], *params)\n",
    "\n",
    "plt.figure(figsize=(8,6))\n",
    "plt.scatter(df[\"2_n\"], 1 / (df[\"2_m\"]*9.8), label=\"Measured Values\")\n",
    "plt.plot(df[\"2_n\"], ypred, 'r-', label=\"Fitted Curve\")\n",
    "plt.legend()\n",
    "plt.xlabel(\"Harmonic Number n\")\n",
    "plt.ylabel(\"Inverse Tension 1/T (1/N)\")\n",
    "plt.title(\"Inverse Tension vs Harmonic Number\")\n",
    "plt.show()\n",
    "print(\"a = \" + str(params[0]) + \" +/- \" + str(std_errs[0]))"
   ]
  },
  {
   "cell_type": "code",
   "execution_count": 79,
   "metadata": {},
   "outputs": [
    {
     "data": {
      "image/png": "[encoded data removed]",
      "text/plain": [
       "<Figure size 576x432 with 1 Axes>"
      ]
     },
     "metadata": {
      "needs_background": "light"
     },
     "output_type": "display_data"
    }
   ],
   "source": [
    "# residuals\n",
    "residuals = 1 / (df[\"2_m\"]*9.8) - ypred\n",
    "plt.figure(figsize=(8,6))\n",
    "plt.scatter(df[\"2_n\"], residuals)\n",
    "plt.xlabel(\"Harmonic Number n\")\n",
    "plt.ylabel(\"Residuals\")\n",
    "plt.title(\"Residuals\")\n",
    "plt.hlines(0, df[\"2_n\"].min(), df[\"2_n\"].max(), color=\"orange\")\n",
    "plt.show()"
   ]
  },
  {
   "cell_type": "code",
   "execution_count": 80,
   "metadata": {},
   "outputs": [
    {
     "data": {
      "text/plain": [
       "0.004089521945623395"
      ]
     },
     "execution_count": 80,
     "metadata": {},
     "output_type": "execute_result"
    }
   ],
   "source": [
    "L = 1.48\n",
    "f = 30\n",
    "a = params[0]\n",
    "\n",
    "mu = 1 / (4 * f**2 * L**2 * a)\n",
    "mu"
   ]
  },
  {
   "cell_type": "code",
   "execution_count": 82,
   "metadata": {},
   "outputs": [
    {
     "data": {
      "text/plain": [
       "0.00022660141843881254"
      ]
     },
     "execution_count": 82,
     "metadata": {},
     "output_type": "execute_result"
    }
   ],
   "source": [
    "a_L = 0.05\n",
    "a_f = 0\n",
    "a_a = std_errs[0]\n",
    "\n",
    "a_mu = np.sqrt(a_L**2 * -2 / (4 * f**2 * L**3) + a_f**2 * -2 / (4 * L**2 * f**3) + a_a**2)\n",
    "a_mu"
   ]
  },
  {
   "cell_type": "code",
   "execution_count": 83,
   "metadata": {},
   "outputs": [
    {
     "data": {
      "text/plain": [
       "True"
      ]
     },
     "execution_count": 83,
     "metadata": {},
     "output_type": "execute_result"
    }
   ],
   "source": [
    "# agreement test\n",
    "abs(mu - 0.00436) < np.sqrt(a_mu**2 + 0.00034**2)"
   ]
  },
  {
   "cell_type": "code",
   "execution_count": null,
   "metadata": {},
   "outputs": [],
   "source": []
  }
 ],
 "metadata": {
  "interpreter": {
   "hash": "a5ed12b88d83e9ebd9e82383ea339d23f1309bcfd653b55c7d37b011d8608c91"
  },
  "kernelspec": {
   "display_name": "Python 3.8.0 64-bit",
   "name": "python3"
  },
  "language_info": {
   "codemirror_mode": {
    "name": "ipython",
    "version": 3
   },
   "file_extension": ".py",
   "mimetype": "text/x-python",
   "name": "python",
   "nbconvert_exporter": "python",
   "pygments_lexer": "ipython3",
   "version": "3.8.0"
  },
  "orig_nbformat": 4
 },
 "nbformat": 4,
 "nbformat_minor": 2
}
