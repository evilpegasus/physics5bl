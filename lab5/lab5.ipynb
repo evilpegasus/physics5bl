{
 "cells": [
  {
   "cell_type": "markdown",
   "source": [
    "# Lab 5\r\n",
    "Ming Fong\r\n",
    "\r\n",
    "Cameron Shotwell"
   ],
   "metadata": {}
  },
  {
   "cell_type": "code",
   "execution_count": 44,
   "source": [
    "import pandas as pd\r\n",
    "import numpy as np\r\n",
    "import matplotlib.pyplot as plt\r\n",
    "import scipy.optimize as opt\r\n",
    "from sklearn.linear_model import LinearRegression\r\n"
   ],
   "outputs": [],
   "metadata": {}
  },
  {
   "cell_type": "code",
   "execution_count": 5,
   "source": [
    "df = pd.read_csv('data/Physics 5BL Lab 5.csv')\r\n",
    "df"
   ],
   "outputs": [
    {
     "output_type": "execute_result",
     "data": {
      "text/html": [
       "<div>\n",
       "<style scoped>\n",
       "    .dataframe tbody tr th:only-of-type {\n",
       "        vertical-align: middle;\n",
       "    }\n",
       "\n",
       "    .dataframe tbody tr th {\n",
       "        vertical-align: top;\n",
       "    }\n",
       "\n",
       "    .dataframe thead th {\n",
       "        text-align: right;\n",
       "    }\n",
       "</style>\n",
       "<table border=\"1\" class=\"dataframe\">\n",
       "  <thead>\n",
       "    <tr style=\"text-align: right;\">\n",
       "      <th></th>\n",
       "      <th>Trial</th>\n",
       "      <th>A45</th>\n",
       "      <th>A85</th>\n",
       "      <th>A125</th>\n",
       "      <th>A165</th>\n",
       "      <th>A205</th>\n",
       "      <th>A245</th>\n",
       "      <th>B45</th>\n",
       "      <th>B65</th>\n",
       "      <th>B85</th>\n",
       "      <th>B105</th>\n",
       "      <th>B125</th>\n",
       "      <th>B145</th>\n",
       "      <th>C239</th>\n",
       "      <th>C279</th>\n",
       "      <th>C319</th>\n",
       "      <th>C359</th>\n",
       "      <th>C399</th>\n",
       "      <th>C439</th>\n",
       "    </tr>\n",
       "  </thead>\n",
       "  <tbody>\n",
       "    <tr>\n",
       "      <th>0</th>\n",
       "      <td>1</td>\n",
       "      <td>0.08</td>\n",
       "      <td>0.12</td>\n",
       "      <td>0.13</td>\n",
       "      <td>0.19</td>\n",
       "      <td>0.20</td>\n",
       "      <td>0.24</td>\n",
       "      <td>0.20</td>\n",
       "      <td>0.200</td>\n",
       "      <td>0.50</td>\n",
       "      <td>0.98</td>\n",
       "      <td>0.50</td>\n",
       "      <td>0.97</td>\n",
       "      <td>0.46</td>\n",
       "      <td>0.58</td>\n",
       "      <td>0.65</td>\n",
       "      <td>0.70</td>\n",
       "      <td>0.70</td>\n",
       "      <td>0.88</td>\n",
       "    </tr>\n",
       "    <tr>\n",
       "      <th>1</th>\n",
       "      <td>2</td>\n",
       "      <td>0.10</td>\n",
       "      <td>0.10</td>\n",
       "      <td>0.12</td>\n",
       "      <td>0.20</td>\n",
       "      <td>0.20</td>\n",
       "      <td>0.24</td>\n",
       "      <td>0.20</td>\n",
       "      <td>0.220</td>\n",
       "      <td>0.50</td>\n",
       "      <td>0.88</td>\n",
       "      <td>0.53</td>\n",
       "      <td>0.94</td>\n",
       "      <td>0.44</td>\n",
       "      <td>0.60</td>\n",
       "      <td>0.68</td>\n",
       "      <td>0.59</td>\n",
       "      <td>0.60</td>\n",
       "      <td>0.79</td>\n",
       "    </tr>\n",
       "    <tr>\n",
       "      <th>2</th>\n",
       "      <td>3</td>\n",
       "      <td>0.09</td>\n",
       "      <td>0.10</td>\n",
       "      <td>0.12</td>\n",
       "      <td>0.18</td>\n",
       "      <td>0.21</td>\n",
       "      <td>0.24</td>\n",
       "      <td>0.19</td>\n",
       "      <td>0.240</td>\n",
       "      <td>0.22</td>\n",
       "      <td>0.74</td>\n",
       "      <td>0.56</td>\n",
       "      <td>1.00</td>\n",
       "      <td>0.48</td>\n",
       "      <td>0.59</td>\n",
       "      <td>0.69</td>\n",
       "      <td>0.68</td>\n",
       "      <td>0.80</td>\n",
       "      <td>0.80</td>\n",
       "    </tr>\n",
       "    <tr>\n",
       "      <th>3</th>\n",
       "      <td>4</td>\n",
       "      <td>0.08</td>\n",
       "      <td>0.10</td>\n",
       "      <td>0.15</td>\n",
       "      <td>0.18</td>\n",
       "      <td>0.24</td>\n",
       "      <td>0.21</td>\n",
       "      <td>0.21</td>\n",
       "      <td>0.240</td>\n",
       "      <td>0.25</td>\n",
       "      <td>0.51</td>\n",
       "      <td>0.40</td>\n",
       "      <td>0.98</td>\n",
       "      <td>0.49</td>\n",
       "      <td>0.65</td>\n",
       "      <td>0.60</td>\n",
       "      <td>0.75</td>\n",
       "      <td>0.86</td>\n",
       "      <td>0.88</td>\n",
       "    </tr>\n",
       "    <tr>\n",
       "      <th>4</th>\n",
       "      <td>5</td>\n",
       "      <td>0.08</td>\n",
       "      <td>0.10</td>\n",
       "      <td>0.12</td>\n",
       "      <td>0.15</td>\n",
       "      <td>0.23</td>\n",
       "      <td>0.22</td>\n",
       "      <td>0.22</td>\n",
       "      <td>0.240</td>\n",
       "      <td>0.38</td>\n",
       "      <td>0.52</td>\n",
       "      <td>0.71</td>\n",
       "      <td>0.90</td>\n",
       "      <td>0.56</td>\n",
       "      <td>0.54</td>\n",
       "      <td>0.66</td>\n",
       "      <td>0.96</td>\n",
       "      <td>0.73</td>\n",
       "      <td>0.86</td>\n",
       "    </tr>\n",
       "    <tr>\n",
       "      <th>5</th>\n",
       "      <td>6</td>\n",
       "      <td>NaN</td>\n",
       "      <td>NaN</td>\n",
       "      <td>NaN</td>\n",
       "      <td>NaN</td>\n",
       "      <td>NaN</td>\n",
       "      <td>NaN</td>\n",
       "      <td>0.19</td>\n",
       "      <td>0.250</td>\n",
       "      <td>0.50</td>\n",
       "      <td>0.56</td>\n",
       "      <td>0.71</td>\n",
       "      <td>0.60</td>\n",
       "      <td>NaN</td>\n",
       "      <td>NaN</td>\n",
       "      <td>NaN</td>\n",
       "      <td>NaN</td>\n",
       "      <td>NaN</td>\n",
       "      <td>NaN</td>\n",
       "    </tr>\n",
       "    <tr>\n",
       "      <th>6</th>\n",
       "      <td>7</td>\n",
       "      <td>NaN</td>\n",
       "      <td>NaN</td>\n",
       "      <td>NaN</td>\n",
       "      <td>NaN</td>\n",
       "      <td>NaN</td>\n",
       "      <td>NaN</td>\n",
       "      <td>0.24</td>\n",
       "      <td>0.250</td>\n",
       "      <td>0.53</td>\n",
       "      <td>0.58</td>\n",
       "      <td>0.74</td>\n",
       "      <td>0.83</td>\n",
       "      <td>NaN</td>\n",
       "      <td>NaN</td>\n",
       "      <td>NaN</td>\n",
       "      <td>NaN</td>\n",
       "      <td>NaN</td>\n",
       "      <td>NaN</td>\n",
       "    </tr>\n",
       "    <tr>\n",
       "      <th>7</th>\n",
       "      <td>8</td>\n",
       "      <td>NaN</td>\n",
       "      <td>NaN</td>\n",
       "      <td>NaN</td>\n",
       "      <td>NaN</td>\n",
       "      <td>NaN</td>\n",
       "      <td>NaN</td>\n",
       "      <td>0.20</td>\n",
       "      <td>0.245</td>\n",
       "      <td>0.50</td>\n",
       "      <td>0.55</td>\n",
       "      <td>0.75</td>\n",
       "      <td>1.00</td>\n",
       "      <td>NaN</td>\n",
       "      <td>NaN</td>\n",
       "      <td>NaN</td>\n",
       "      <td>NaN</td>\n",
       "      <td>NaN</td>\n",
       "      <td>NaN</td>\n",
       "    </tr>\n",
       "    <tr>\n",
       "      <th>8</th>\n",
       "      <td>9</td>\n",
       "      <td>NaN</td>\n",
       "      <td>NaN</td>\n",
       "      <td>NaN</td>\n",
       "      <td>NaN</td>\n",
       "      <td>NaN</td>\n",
       "      <td>NaN</td>\n",
       "      <td>0.19</td>\n",
       "      <td>0.240</td>\n",
       "      <td>0.46</td>\n",
       "      <td>0.55</td>\n",
       "      <td>0.72</td>\n",
       "      <td>0.79</td>\n",
       "      <td>NaN</td>\n",
       "      <td>NaN</td>\n",
       "      <td>NaN</td>\n",
       "      <td>NaN</td>\n",
       "      <td>NaN</td>\n",
       "      <td>NaN</td>\n",
       "    </tr>\n",
       "    <tr>\n",
       "      <th>9</th>\n",
       "      <td>10</td>\n",
       "      <td>NaN</td>\n",
       "      <td>NaN</td>\n",
       "      <td>NaN</td>\n",
       "      <td>NaN</td>\n",
       "      <td>NaN</td>\n",
       "      <td>NaN</td>\n",
       "      <td>0.20</td>\n",
       "      <td>0.280</td>\n",
       "      <td>0.48</td>\n",
       "      <td>0.54</td>\n",
       "      <td>0.81</td>\n",
       "      <td>0.86</td>\n",
       "      <td>NaN</td>\n",
       "      <td>NaN</td>\n",
       "      <td>NaN</td>\n",
       "      <td>NaN</td>\n",
       "      <td>NaN</td>\n",
       "      <td>NaN</td>\n",
       "    </tr>\n",
       "  </tbody>\n",
       "</table>\n",
       "</div>"
      ],
      "text/plain": [
       "   Trial   A45   A85  A125  A165  A205  A245   B45    B65   B85  B105  B125  \\\n",
       "0      1  0.08  0.12  0.13  0.19  0.20  0.24  0.20  0.200  0.50  0.98  0.50   \n",
       "1      2  0.10  0.10  0.12  0.20  0.20  0.24  0.20  0.220  0.50  0.88  0.53   \n",
       "2      3  0.09  0.10  0.12  0.18  0.21  0.24  0.19  0.240  0.22  0.74  0.56   \n",
       "3      4  0.08  0.10  0.15  0.18  0.24  0.21  0.21  0.240  0.25  0.51  0.40   \n",
       "4      5  0.08  0.10  0.12  0.15  0.23  0.22  0.22  0.240  0.38  0.52  0.71   \n",
       "5      6   NaN   NaN   NaN   NaN   NaN   NaN  0.19  0.250  0.50  0.56  0.71   \n",
       "6      7   NaN   NaN   NaN   NaN   NaN   NaN  0.24  0.250  0.53  0.58  0.74   \n",
       "7      8   NaN   NaN   NaN   NaN   NaN   NaN  0.20  0.245  0.50  0.55  0.75   \n",
       "8      9   NaN   NaN   NaN   NaN   NaN   NaN  0.19  0.240  0.46  0.55  0.72   \n",
       "9     10   NaN   NaN   NaN   NaN   NaN   NaN  0.20  0.280  0.48  0.54  0.81   \n",
       "\n",
       "   B145  C239  C279  C319  C359  C399  C439  \n",
       "0  0.97  0.46  0.58  0.65  0.70  0.70  0.88  \n",
       "1  0.94  0.44  0.60  0.68  0.59  0.60  0.79  \n",
       "2  1.00  0.48  0.59  0.69  0.68  0.80  0.80  \n",
       "3  0.98  0.49  0.65  0.60  0.75  0.86  0.88  \n",
       "4  0.90  0.56  0.54  0.66  0.96  0.73  0.86  \n",
       "5  0.60   NaN   NaN   NaN   NaN   NaN   NaN  \n",
       "6  0.83   NaN   NaN   NaN   NaN   NaN   NaN  \n",
       "7  1.00   NaN   NaN   NaN   NaN   NaN   NaN  \n",
       "8  0.79   NaN   NaN   NaN   NaN   NaN   NaN  \n",
       "9  0.86   NaN   NaN   NaN   NaN   NaN   NaN  "
      ]
     },
     "metadata": {},
     "execution_count": 5
    }
   ],
   "metadata": {}
  },
  {
   "cell_type": "code",
   "execution_count": 15,
   "source": [
    "c_masses = np.array([239,279,319,359,399,439])\r\n",
    "c_masses = c_masses / 1000\r\n",
    "c_masses * 9.8"
   ],
   "outputs": [
    {
     "output_type": "execute_result",
     "data": {
      "text/plain": [
       "array([2.3422, 2.7342, 3.1262, 3.5182, 3.9102, 4.3022])"
      ]
     },
     "metadata": {},
     "execution_count": 15
    }
   ],
   "metadata": {}
  },
  {
   "cell_type": "code",
   "execution_count": 6,
   "source": [
    "df.mean()"
   ],
   "outputs": [
    {
     "output_type": "execute_result",
     "data": {
      "text/plain": [
       "Trial    5.5000\n",
       "A45      0.0860\n",
       "A85      0.1040\n",
       "A125     0.1280\n",
       "A165     0.1800\n",
       "A205     0.2160\n",
       "A245     0.2300\n",
       "B45      0.2040\n",
       "B65      0.2405\n",
       "B85      0.4320\n",
       "B105     0.6410\n",
       "B125     0.6430\n",
       "B145     0.8870\n",
       "C239     0.4860\n",
       "C279     0.5920\n",
       "C319     0.6560\n",
       "C359     0.7360\n",
       "C399     0.7380\n",
       "C439     0.8420\n",
       "dtype: float64"
      ]
     },
     "metadata": {},
     "execution_count": 6
    }
   ],
   "metadata": {}
  },
  {
   "cell_type": "code",
   "execution_count": 7,
   "source": [
    "df.sem()"
   ],
   "outputs": [
    {
     "output_type": "execute_result",
     "data": {
      "text/plain": [
       "Trial    0.957427\n",
       "A45      0.004000\n",
       "A85      0.004000\n",
       "A125     0.005831\n",
       "A165     0.008367\n",
       "A205     0.008124\n",
       "A245     0.006325\n",
       "B45      0.004989\n",
       "B65      0.006517\n",
       "B85      0.035270\n",
       "B105     0.052777\n",
       "B125     0.042532\n",
       "B145     0.039414\n",
       "C239     0.020396\n",
       "C279     0.017720\n",
       "C319     0.015684\n",
       "C359     0.061693\n",
       "C399     0.044317\n",
       "C439     0.019596\n",
       "dtype: float64"
      ]
     },
     "metadata": {},
     "execution_count": 7
    }
   ],
   "metadata": {}
  },
  {
   "cell_type": "code",
   "execution_count": 23,
   "source": [
    "df[df.columns[-6:]].mean().values"
   ],
   "outputs": [
    {
     "output_type": "execute_result",
     "data": {
      "text/plain": [
       "array([0.486, 0.592, 0.656, 0.736, 0.738, 0.842])"
      ]
     },
     "metadata": {},
     "execution_count": 23
    }
   ],
   "metadata": {}
  },
  {
   "cell_type": "code",
   "execution_count": 38,
   "source": [
    "x_dat = c_masses * 9.8\r\n",
    "y_dat = df[df.columns[-6:]].mean().values\r\n",
    "y_err = df[df.columns[-6:]].sem().values"
   ],
   "outputs": [],
   "metadata": {}
  },
  {
   "cell_type": "code",
   "execution_count": 39,
   "source": [
    "# Define model functions  -- the independent variable has to be the first argument\r\n",
    "\r\n",
    "#proportional model y=mx\r\n",
    "def model_prop(x,m):\r\n",
    "    return m*x\r\n",
    "\r\n",
    "#linear model y=mx+c\r\n",
    "def model_lin(x,m,c):\r\n",
    "    return m*x + c\r\n",
    "\r\n",
    "# Set initial parameters m0 and b0\r\n",
    "mInit=0.025\r\n",
    "\r\n",
    "# Define new frequency array, fModel, for displaying the model\r\n",
    "fModel = np.linspace(0,10)"
   ],
   "outputs": [],
   "metadata": {}
  },
  {
   "cell_type": "code",
   "execution_count": 53,
   "source": [
    "# The order of the parameter array elements p0, lin_opt, and lin_cov\r\n",
    "# are determined by their order [m,b] in the model definition, model_lin(x,m,b):\r\n",
    "# we are using an unweighted fit\r\n",
    "\r\n",
    "# Set initial parameters mInit and bInit\r\n",
    "mInit=0.025\r\n",
    "cInit=-0.05\r\n",
    "\r\n",
    "#fit the unweighted model y=mx+b\r\n",
    "lin_opt, lin_cov = opt.curve_fit(model_lin, x_dat, y_dat, p0=[mInit,cInit])\r\n",
    "\r\n",
    "# Predicted values\r\n",
    "y_lin = model_lin(x_dat, lin_opt[0], lin_opt[1])\r\n",
    "\r\n",
    "#error in the fit variables\r\n",
    "lin_err = np.sqrt(np.diag(lin_cov))  \r\n",
    "\r\n",
    "print('m = {0:6.4f} ± {1:5.4f} m/N'.format(lin_opt[0], lin_err[0]))\r\n",
    "print(f\"c = {lin_opt[1]:.4f} ±  {lin_err[1]:.4f} m\")\r\n"
   ],
   "outputs": [
    {
     "output_type": "stream",
     "name": "stdout",
     "text": [
      "m = 0.1675 ± 0.0170 m/N\n",
      "c = 0.1186 ±  0.0576 m\n"
     ]
    }
   ],
   "metadata": {}
  },
  {
   "cell_type": "code",
   "execution_count": 56,
   "source": [
    "# Calculating the chisq (*not reduced*)\r\n",
    "def chisq(predicted, observed, errors):\r\n",
    "    res = observed-predicted\r\n",
    "    norm_res = res / errors \r\n",
    "    return np.sum(norm_res**2)\r\n",
    "\r\n",
    "\r\n",
    "#chi squared for linear case\r\n",
    "chi2_lin = chisq(y_lin, y_dat, y_err)\r\n",
    "\r\n",
    "print('χ2 =', chi2_lin) #unformatted, as an example\r\n"
   ],
   "outputs": [
    {
     "output_type": "stream",
     "name": "stdout",
     "text": [
      "χ2 = 3.8972933701948667\n"
     ]
    }
   ],
   "metadata": {}
  },
  {
   "cell_type": "code",
   "execution_count": 67,
   "source": [
    "chi2_lin/4"
   ],
   "outputs": [
    {
     "output_type": "execute_result",
     "data": {
      "text/plain": [
       "0.9743233425487167"
      ]
     },
     "metadata": {},
     "execution_count": 67
    }
   ],
   "metadata": {}
  },
  {
   "cell_type": "code",
   "execution_count": 62,
   "source": [
    "# Best-fit plot with error bars, parameters, chisq\r\n",
    "\r\n",
    "# Sets figure size etc.\r\n",
    "fig1=plt.figure(figsize=(8, 8), dpi= 80, facecolor='w', edgecolor='k')\r\n",
    "plt.rcParams.update({'font.size': '12'})\r\n",
    "\r\n",
    "# Data with error bars\r\n",
    "plt.errorbar(x_dat, y_dat, y_err, fmt='o', capsize = 3, capthick = 1, label=\"data with error bar\")\r\n",
    "\r\n",
    "# Best linear fit \r\n",
    "# could also use: plt.plot(np.linspace(0,10), model_lin(np.linspace(0,10), lin_opt[0], lin_opt[1]), label='fit')\r\n",
    "plt.errorbar(np.linspace(0,5), model_lin(np.linspace(0,5), lin_opt[0], lin_opt[1]), label='fit')\r\n",
    "\r\n",
    "# Axes label and title\r\n",
    "plt.title(\"Minimum Force vs Normal Force\")\r\n",
    "plt.xlabel(\"Normal Force (N)\")\r\n",
    "plt.ylabel(\"Minimum Force (m)\")\r\n",
    "\r\n",
    "# Best fit parameters, uncertainties, and chisq\r\n",
    "plt.text(0,.8, \"m = %5.4f \\u00b1 %5.4f m/N\" % (lin_opt[0], lin_err[0]))\r\n",
    "plt.text(0,.75, \"c = %5.4f \\u00b1 %5.4f m\" % (lin_opt[1], lin_err[1]))\r\n",
    "plt.text(0,.7, \"χ2 = %5.3f\" % chi2_lin)\r\n",
    "plt.legend()\r\n",
    "plt.show()"
   ],
   "outputs": [
    {
     "output_type": "display_data",
     "data": {
      "image/png": "[encoded data removed]",
      "text/plain": [
       "<Figure size 640x640 with 1 Axes>"
      ]
     },
     "metadata": {}
    }
   ],
   "metadata": {}
  },
  {
   "cell_type": "code",
   "execution_count": 63,
   "source": [
    "lr1 = LinearRegression(fit_intercept=True)\r\n",
    "lr1.fit(x_dat.reshape(-1, 1), y_dat)\r\n",
    "lr1.coef_"
   ],
   "outputs": [
    {
     "output_type": "execute_result",
     "data": {
      "text/plain": [
       "array([0.16749271])"
      ]
     },
     "metadata": {},
     "execution_count": 63
    }
   ],
   "metadata": {}
  },
  {
   "cell_type": "code",
   "execution_count": 64,
   "source": [
    "lr1.intercept_"
   ],
   "outputs": [
    {
     "output_type": "execute_result",
     "data": {
      "text/plain": [
       "0.11855571428571399"
      ]
     },
     "metadata": {},
     "execution_count": 64
    }
   ],
   "metadata": {}
  },
  {
   "cell_type": "code",
   "execution_count": 66,
   "source": [
    "# Residuals plot\r\n",
    "\r\n",
    "# Residuals\r\n",
    "r_lin = y_dat- y_lin\r\n",
    "\r\n",
    "# Sets figure size etc.\r\n",
    "fig2=plt.figure(figsize=(6, 6), dpi= 80, facecolor='w', edgecolor='k')\r\n",
    "plt.rcParams.update({'font.size': '14'})\r\n",
    "\r\n",
    "# Residuals\r\n",
    "plt.errorbar(x_dat, r_lin, fmt='o')\r\n",
    "plt.axhline(color='r') # 0 line for reference\r\n",
    "\r\n",
    "# Axes label and title\r\n",
    "plt.title(\"Linear fit residuals\")\r\n",
    "plt.xlabel(\"Normal Force (N)\")\r\n",
    "plt.ylabel(\"Residuals: y(observed) - y (predicted)  (m)\")\r\n",
    "plt.show()"
   ],
   "outputs": [
    {
     "output_type": "display_data",
     "data": {
      "image/png": "[encoded data removed]",
      "text/plain": [
       "<Figure size 480x480 with 1 Axes>"
      ]
     },
     "metadata": {}
    }
   ],
   "metadata": {}
  },
  {
   "cell_type": "code",
   "execution_count": null,
   "source": [],
   "outputs": [],
   "metadata": {}
  }
 ],
 "metadata": {
  "orig_nbformat": 4,
  "language_info": {
   "name": "python",
   "version": "3.8.0",
   "mimetype": "text/x-python",
   "codemirror_mode": {
    "name": "ipython",
    "version": 3
   },
   "pygments_lexer": "ipython3",
   "nbconvert_exporter": "python",
   "file_extension": ".py"
  },
  "kernelspec": {
   "name": "python3",
   "display_name": "Python 3.8.0 64-bit"
  },
  "interpreter": {
   "hash": "a5ed12b88d83e9ebd9e82383ea339d23f1309bcfd653b55c7d37b011d8608c91"
  }
 },
 "nbformat": 4,
 "nbformat_minor": 2
}