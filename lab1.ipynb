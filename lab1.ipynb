{
 "cells": [
  {
   "cell_type": "markdown",
   "source": [
    "# Physics 5BL Lab 1\r\n",
    "## Ming Fong and Max Zhao"
   ],
   "metadata": {}
  },
  {
   "cell_type": "code",
   "execution_count": 7,
   "source": [
    "import numpy as np\r\n",
    "import matplotlib.pyplot as plt\r\n",
    "import pandas as pd"
   ],
   "outputs": [],
   "metadata": {}
  },
  {
   "cell_type": "code",
   "execution_count": 11,
   "source": [
    "df = pd.read_csv(\"data/Physics 5BL Lab1.csv\").set_index(\"Trial\")\r\n",
    "df"
   ],
   "outputs": [
    {
     "output_type": "execute_result",
     "data": {
      "text/html": [
       "<div>\n",
       "<style scoped>\n",
       "    .dataframe tbody tr th:only-of-type {\n",
       "        vertical-align: middle;\n",
       "    }\n",
       "\n",
       "    .dataframe tbody tr th {\n",
       "        vertical-align: top;\n",
       "    }\n",
       "\n",
       "    .dataframe thead th {\n",
       "        text-align: right;\n",
       "    }\n",
       "</style>\n",
       "<table border=\"1\" class=\"dataframe\">\n",
       "  <thead>\n",
       "    <tr style=\"text-align: right;\">\n",
       "      <th></th>\n",
       "      <th>Ball Ruler</th>\n",
       "      <th>Ball Tape</th>\n",
       "      <th>Ball Caliper</th>\n",
       "      <th>Dowel Ruler</th>\n",
       "      <th>Dowel Tape</th>\n",
       "      <th>Rolling Analog</th>\n",
       "      <th>Rolling Stopwatch</th>\n",
       "      <th>Metronone Analog</th>\n",
       "      <th>Metronome Stopwatch</th>\n",
       "      <th>Ball Scale</th>\n",
       "      <th>Ball Spring</th>\n",
       "      <th>IOLab Scale</th>\n",
       "      <th>IOLab Spring</th>\n",
       "    </tr>\n",
       "    <tr>\n",
       "      <th>Trial</th>\n",
       "      <th></th>\n",
       "      <th></th>\n",
       "      <th></th>\n",
       "      <th></th>\n",
       "      <th></th>\n",
       "      <th></th>\n",
       "      <th></th>\n",
       "      <th></th>\n",
       "      <th></th>\n",
       "      <th></th>\n",
       "      <th></th>\n",
       "      <th></th>\n",
       "      <th></th>\n",
       "    </tr>\n",
       "  </thead>\n",
       "  <tbody>\n",
       "    <tr>\n",
       "      <th>1</th>\n",
       "      <td>1.8</td>\n",
       "      <td>1.9</td>\n",
       "      <td>1.88</td>\n",
       "      <td>30.4</td>\n",
       "      <td>30.5</td>\n",
       "      <td>0.8</td>\n",
       "      <td>0.98</td>\n",
       "      <td>5.6</td>\n",
       "      <td>6.16</td>\n",
       "      <td>26</td>\n",
       "      <td>26</td>\n",
       "      <td>203</td>\n",
       "      <td>200</td>\n",
       "    </tr>\n",
       "    <tr>\n",
       "      <th>2</th>\n",
       "      <td>1.9</td>\n",
       "      <td>1.9</td>\n",
       "      <td>1.88</td>\n",
       "      <td>30.5</td>\n",
       "      <td>30.5</td>\n",
       "      <td>0.8</td>\n",
       "      <td>0.96</td>\n",
       "      <td>6.1</td>\n",
       "      <td>6.10</td>\n",
       "      <td>26</td>\n",
       "      <td>27</td>\n",
       "      <td>203</td>\n",
       "      <td>200</td>\n",
       "    </tr>\n",
       "    <tr>\n",
       "      <th>3</th>\n",
       "      <td>1.9</td>\n",
       "      <td>1.9</td>\n",
       "      <td>1.87</td>\n",
       "      <td>30.5</td>\n",
       "      <td>30.6</td>\n",
       "      <td>0.9</td>\n",
       "      <td>0.84</td>\n",
       "      <td>6.4</td>\n",
       "      <td>6.07</td>\n",
       "      <td>25</td>\n",
       "      <td>26</td>\n",
       "      <td>203</td>\n",
       "      <td>200</td>\n",
       "    </tr>\n",
       "    <tr>\n",
       "      <th>4</th>\n",
       "      <td>1.8</td>\n",
       "      <td>1.9</td>\n",
       "      <td>1.86</td>\n",
       "      <td>30.5</td>\n",
       "      <td>30.6</td>\n",
       "      <td>0.7</td>\n",
       "      <td>0.72</td>\n",
       "      <td>5.9</td>\n",
       "      <td>6.13</td>\n",
       "      <td>25</td>\n",
       "      <td>25</td>\n",
       "      <td>203</td>\n",
       "      <td>200</td>\n",
       "    </tr>\n",
       "    <tr>\n",
       "      <th>5</th>\n",
       "      <td>1.7</td>\n",
       "      <td>1.8</td>\n",
       "      <td>1.88</td>\n",
       "      <td>30.5</td>\n",
       "      <td>30.6</td>\n",
       "      <td>0.6</td>\n",
       "      <td>0.78</td>\n",
       "      <td>6.0</td>\n",
       "      <td>6.04</td>\n",
       "      <td>25</td>\n",
       "      <td>25</td>\n",
       "      <td>203</td>\n",
       "      <td>202</td>\n",
       "    </tr>\n",
       "    <tr>\n",
       "      <th>6</th>\n",
       "      <td>1.8</td>\n",
       "      <td>1.9</td>\n",
       "      <td>1.90</td>\n",
       "      <td>30.5</td>\n",
       "      <td>30.5</td>\n",
       "      <td>0.7</td>\n",
       "      <td>0.78</td>\n",
       "      <td>6.1</td>\n",
       "      <td>6.21</td>\n",
       "      <td>25</td>\n",
       "      <td>26</td>\n",
       "      <td>203</td>\n",
       "      <td>202</td>\n",
       "    </tr>\n",
       "  </tbody>\n",
       "</table>\n",
       "</div>"
      ],
      "text/plain": [
       "       Ball Ruler  Ball Tape  Ball Caliper  Dowel Ruler  Dowel Tape  \\\n",
       "Trial                                                                 \n",
       "1             1.8        1.9          1.88         30.4        30.5   \n",
       "2             1.9        1.9          1.88         30.5        30.5   \n",
       "3             1.9        1.9          1.87         30.5        30.6   \n",
       "4             1.8        1.9          1.86         30.5        30.6   \n",
       "5             1.7        1.8          1.88         30.5        30.6   \n",
       "6             1.8        1.9          1.90         30.5        30.5   \n",
       "\n",
       "       Rolling Analog  Rolling Stopwatch  Metronone Analog  \\\n",
       "Trial                                                        \n",
       "1                 0.8               0.98               5.6   \n",
       "2                 0.8               0.96               6.1   \n",
       "3                 0.9               0.84               6.4   \n",
       "4                 0.7               0.72               5.9   \n",
       "5                 0.6               0.78               6.0   \n",
       "6                 0.7               0.78               6.1   \n",
       "\n",
       "       Metronome Stopwatch  Ball Scale  Ball Spring  IOLab Scale  IOLab Spring  \n",
       "Trial                                                                           \n",
       "1                     6.16          26           26          203           200  \n",
       "2                     6.10          26           27          203           200  \n",
       "3                     6.07          25           26          203           200  \n",
       "4                     6.13          25           25          203           200  \n",
       "5                     6.04          25           25          203           202  \n",
       "6                     6.21          25           26          203           202  "
      ]
     },
     "metadata": {},
     "execution_count": 11
    }
   ],
   "metadata": {}
  },
  {
   "cell_type": "code",
   "execution_count": 12,
   "source": [
    "df.mean()"
   ],
   "outputs": [
    {
     "output_type": "execute_result",
     "data": {
      "text/plain": [
       "Ball Ruler               1.816667\n",
       "Ball Tape                1.883333\n",
       "Ball Caliper             1.878333\n",
       "Dowel Ruler             30.483333\n",
       "Dowel Tape              30.550000\n",
       "Rolling Analog           0.750000\n",
       "Rolling Stopwatch        0.843333\n",
       "Metronone Analog         6.016667\n",
       "Metronome Stopwatch      6.118333\n",
       "Ball Scale              25.333333\n",
       "Ball Spring             25.833333\n",
       "IOLab Scale            203.000000\n",
       "IOLab Spring           200.666667\n",
       "dtype: float64"
      ]
     },
     "metadata": {},
     "execution_count": 12
    }
   ],
   "metadata": {}
  },
  {
   "cell_type": "code",
   "execution_count": 16,
   "source": [
    "df.std(ddof=1)"
   ],
   "outputs": [
    {
     "output_type": "execute_result",
     "data": {
      "text/plain": [
       "Ball Ruler             0.075277\n",
       "Ball Tape              0.040825\n",
       "Ball Caliper           0.013292\n",
       "Dowel Ruler            0.040825\n",
       "Dowel Tape             0.054772\n",
       "Rolling Analog         0.104881\n",
       "Rolling Stopwatch      0.105388\n",
       "Metronone Analog       0.263944\n",
       "Metronome Stopwatch    0.061779\n",
       "Ball Scale             0.516398\n",
       "Ball Spring            0.752773\n",
       "IOLab Scale            0.000000\n",
       "IOLab Spring           1.032796\n",
       "dtype: float64"
      ]
     },
     "metadata": {},
     "execution_count": 16
    }
   ],
   "metadata": {}
  },
  {
   "cell_type": "code",
   "execution_count": 17,
   "source": [
    "df.std(ddof=1)/np.sqrt(df.shape[0])"
   ],
   "outputs": [
    {
     "output_type": "execute_result",
     "data": {
      "text/plain": [
       "Ball Ruler             0.030732\n",
       "Ball Tape              0.016667\n",
       "Ball Caliper           0.005426\n",
       "Dowel Ruler            0.016667\n",
       "Dowel Tape             0.022361\n",
       "Rolling Analog         0.042817\n",
       "Rolling Stopwatch      0.043025\n",
       "Metronone Analog       0.107755\n",
       "Metronome Stopwatch    0.025221\n",
       "Ball Scale             0.210819\n",
       "Ball Spring            0.307318\n",
       "IOLab Scale            0.000000\n",
       "IOLab Spring           0.421637\n",
       "dtype: float64"
      ]
     },
     "metadata": {},
     "execution_count": 17
    }
   ],
   "metadata": {}
  },
  {
   "cell_type": "markdown",
   "source": [
    "# Time Station"
   ],
   "metadata": {}
  },
  {
   "cell_type": "code",
   "execution_count": 24,
   "source": [
    "# agreement test for 100 bpm Analog\r\n",
    "lhs = abs(6 - df[\"Metronone Analog\"].mean())\r\n",
    "print(lhs)\r\n",
    "rhs = 2 * (df[\"Metronone Analog\"].std(ddof=1)/np.sqrt(df.shape[0]))\r\n",
    "print(rhs)\r\n",
    "lhs < rhs"
   ],
   "outputs": [
    {
     "output_type": "stream",
     "name": "stdout",
     "text": [
      "0.016666666666666607\n",
      "0.21550973166992832\n"
     ]
    },
    {
     "output_type": "execute_result",
     "data": {
      "text/plain": [
       "True"
      ]
     },
     "metadata": {},
     "execution_count": 24
    }
   ],
   "metadata": {}
  },
  {
   "cell_type": "code",
   "execution_count": 31,
   "source": [
    "# agreement test for 100 bpm Stopwatch\r\n",
    "lhs = abs(6 - df[\"Metronome Stopwatch\"].mean())\r\n",
    "print(lhs)\r\n",
    "rhs = 2 * (df[\"Metronome Stopwatch\"].std(ddof=1)/np.sqrt(df.shape[0]))\r\n",
    "print(rhs)\r\n",
    "lhs < rhs"
   ],
   "outputs": [
    {
     "output_type": "stream",
     "name": "stdout",
     "text": [
      "0.11833333333333229\n",
      "0.05044248650140516\n"
     ]
    },
    {
     "output_type": "execute_result",
     "data": {
      "text/plain": [
       "False"
      ]
     },
     "metadata": {},
     "execution_count": 31
    }
   ],
   "metadata": {}
  },
  {
   "cell_type": "markdown",
   "source": [
    "# Mass Station"
   ],
   "metadata": {}
  },
  {
   "cell_type": "code",
   "execution_count": 33,
   "source": [
    "# agreement test for Ball Scale\r\n",
    "lhs = abs(25.9 - df[\"Ball Scale\"].mean())\r\n",
    "print(lhs)\r\n",
    "rhs = 2 * (df[\"Ball Scale\"].std(ddof=1)/np.sqrt(df.shape[0]) + 0.1)\r\n",
    "print(rhs)\r\n",
    "lhs < rhs"
   ],
   "outputs": [
    {
     "output_type": "stream",
     "name": "stdout",
     "text": [
      "0.5666666666666664\n",
      "0.6216370213557839\n"
     ]
    },
    {
     "output_type": "execute_result",
     "data": {
      "text/plain": [
       "True"
      ]
     },
     "metadata": {},
     "execution_count": 33
    }
   ],
   "metadata": {}
  },
  {
   "cell_type": "code",
   "execution_count": 34,
   "source": [
    "# agreement test for Ball Spring\r\n",
    "lhs = abs(25.9 - df[\"Ball Spring\"].mean())\r\n",
    "print(lhs)\r\n",
    "rhs = 2 * (df[\"Ball Spring\"].std(ddof=1)/np.sqrt(df.shape[0]) + 0.1)\r\n",
    "print(rhs)\r\n",
    "lhs < rhs"
   ],
   "outputs": [
    {
     "output_type": "stream",
     "name": "stdout",
     "text": [
      "0.06666666666666643\n",
      "0.8146362971528591\n"
     ]
    },
    {
     "output_type": "execute_result",
     "data": {
      "text/plain": [
       "True"
      ]
     },
     "metadata": {},
     "execution_count": 34
    }
   ],
   "metadata": {}
  },
  {
   "cell_type": "code",
   "execution_count": 37,
   "source": [
    "# agreement test for IOLab Scale\r\n",
    "lhs = abs(203 - df[\"IOLab Scale\"].mean())\r\n",
    "print(lhs)\r\n",
    "rhs = 2 * (df[\"IOLab Scale\"].std(ddof=1)/np.sqrt(df.shape[0]) + 1)\r\n",
    "print(rhs)\r\n",
    "lhs < rhs"
   ],
   "outputs": [
    {
     "output_type": "stream",
     "name": "stdout",
     "text": [
      "0.0\n",
      "2.0\n"
     ]
    },
    {
     "output_type": "execute_result",
     "data": {
      "text/plain": [
       "True"
      ]
     },
     "metadata": {},
     "execution_count": 37
    }
   ],
   "metadata": {}
  },
  {
   "cell_type": "code",
   "execution_count": 38,
   "source": [
    "# agreement test for IOLab Spring\r\n",
    "lhs = abs(203 - df[\"IOLab Spring\"].mean())\r\n",
    "print(lhs)\r\n",
    "rhs = 2 * (df[\"IOLab Spring\"].std(ddof=1)/np.sqrt(df.shape[0]) + 1)\r\n",
    "print(rhs)\r\n",
    "lhs < rhs"
   ],
   "outputs": [
    {
     "output_type": "stream",
     "name": "stdout",
     "text": [
      "2.333333333333343\n",
      "2.843274042711568\n"
     ]
    },
    {
     "output_type": "execute_result",
     "data": {
      "text/plain": [
       "True"
      ]
     },
     "metadata": {},
     "execution_count": 38
    }
   ],
   "metadata": {}
  }
 ],
 "metadata": {
  "orig_nbformat": 4,
  "language_info": {
   "name": "python",
   "version": "3.7.6",
   "mimetype": "text/x-python",
   "codemirror_mode": {
    "name": "ipython",
    "version": 3
   },
   "pygments_lexer": "ipython3",
   "nbconvert_exporter": "python",
   "file_extension": ".py"
  },
  "kernelspec": {
   "name": "python3",
   "display_name": "Python 3.7.6 64-bit ('base': conda)"
  },
  "interpreter": {
   "hash": "3b40c0205943e3cc11fab46d0de2702c66fee9971a8bd763cf59f3a7722aadbd"
  }
 },
 "nbformat": 4,
 "nbformat_minor": 2
}