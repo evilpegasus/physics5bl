{
 "cells": [
  {
   "cell_type": "markdown",
   "metadata": {},
   "source": [
    "# RC RCL Lab"
   ]
  },
  {
   "cell_type": "code",
   "execution_count": 8,
   "metadata": {},
   "outputs": [],
   "source": [
    "import pandas as pd\n",
    "import numpy as np\n",
    "import matplotlib.pyplot as plt\n",
    "from scipy.optimize import curve_fit"
   ]
  },
  {
   "cell_type": "code",
   "execution_count": 4,
   "metadata": {},
   "outputs": [
    {
     "data": {
      "text/html": [
       "<div>\n",
       "<style scoped>\n",
       "    .dataframe tbody tr th:only-of-type {\n",
       "        vertical-align: middle;\n",
       "    }\n",
       "\n",
       "    .dataframe tbody tr th {\n",
       "        vertical-align: top;\n",
       "    }\n",
       "\n",
       "    .dataframe thead th {\n",
       "        text-align: right;\n",
       "    }\n",
       "</style>\n",
       "<table border=\"1\" class=\"dataframe\">\n",
       "  <thead>\n",
       "    <tr style=\"text-align: right;\">\n",
       "      <th></th>\n",
       "      <th>1a t</th>\n",
       "      <th>1a V</th>\n",
       "      <th>1c t</th>\n",
       "      <th>1c V</th>\n",
       "      <th>2a t</th>\n",
       "      <th>2a V</th>\n",
       "      <th>2b t</th>\n",
       "      <th>2b V</th>\n",
       "    </tr>\n",
       "  </thead>\n",
       "  <tbody>\n",
       "    <tr>\n",
       "      <th>0</th>\n",
       "      <td>0.000</td>\n",
       "      <td>9.80</td>\n",
       "      <td>0.000</td>\n",
       "      <td>0.360</td>\n",
       "      <td>0.000172</td>\n",
       "      <td>0.182300</td>\n",
       "      <td>0.0208</td>\n",
       "      <td>3.86</td>\n",
       "    </tr>\n",
       "    <tr>\n",
       "      <th>1</th>\n",
       "      <td>0.028</td>\n",
       "      <td>9.32</td>\n",
       "      <td>0.112</td>\n",
       "      <td>0.396</td>\n",
       "      <td>0.000812</td>\n",
       "      <td>0.102500</td>\n",
       "      <td>0.0768</td>\n",
       "      <td>3.46</td>\n",
       "    </tr>\n",
       "    <tr>\n",
       "      <th>2</th>\n",
       "      <td>0.068</td>\n",
       "      <td>8.68</td>\n",
       "      <td>0.192</td>\n",
       "      <td>0.416</td>\n",
       "      <td>0.001470</td>\n",
       "      <td>0.057480</td>\n",
       "      <td>0.1330</td>\n",
       "      <td>3.18</td>\n",
       "    </tr>\n",
       "    <tr>\n",
       "      <th>3</th>\n",
       "      <td>0.168</td>\n",
       "      <td>7.40</td>\n",
       "      <td>0.332</td>\n",
       "      <td>0.436</td>\n",
       "      <td>0.002110</td>\n",
       "      <td>0.033270</td>\n",
       "      <td>0.1890</td>\n",
       "      <td>2.90</td>\n",
       "    </tr>\n",
       "    <tr>\n",
       "      <th>4</th>\n",
       "      <td>0.208</td>\n",
       "      <td>6.92</td>\n",
       "      <td>0.632</td>\n",
       "      <td>0.484</td>\n",
       "      <td>0.002770</td>\n",
       "      <td>0.019480</td>\n",
       "      <td>0.2770</td>\n",
       "      <td>2.50</td>\n",
       "    </tr>\n",
       "    <tr>\n",
       "      <th>5</th>\n",
       "      <td>0.328</td>\n",
       "      <td>5.72</td>\n",
       "      <td>1.230</td>\n",
       "      <td>0.532</td>\n",
       "      <td>0.003410</td>\n",
       "      <td>0.011550</td>\n",
       "      <td>0.3890</td>\n",
       "      <td>2.10</td>\n",
       "    </tr>\n",
       "    <tr>\n",
       "      <th>6</th>\n",
       "      <td>0.508</td>\n",
       "      <td>4.36</td>\n",
       "      <td>2.050</td>\n",
       "      <td>0.584</td>\n",
       "      <td>0.004070</td>\n",
       "      <td>0.007434</td>\n",
       "      <td>0.5410</td>\n",
       "      <td>1.66</td>\n",
       "    </tr>\n",
       "    <tr>\n",
       "      <th>7</th>\n",
       "      <td>0.868</td>\n",
       "      <td>2.68</td>\n",
       "      <td>2.850</td>\n",
       "      <td>0.612</td>\n",
       "      <td>0.004730</td>\n",
       "      <td>0.004547</td>\n",
       "      <td>0.7570</td>\n",
       "      <td>1.18</td>\n",
       "    </tr>\n",
       "    <tr>\n",
       "      <th>8</th>\n",
       "      <td>1.290</td>\n",
       "      <td>1.56</td>\n",
       "      <td>3.390</td>\n",
       "      <td>0.640</td>\n",
       "      <td>NaN</td>\n",
       "      <td>NaN</td>\n",
       "      <td>0.9970</td>\n",
       "      <td>0.86</td>\n",
       "    </tr>\n",
       "    <tr>\n",
       "      <th>9</th>\n",
       "      <td>1.850</td>\n",
       "      <td>0.76</td>\n",
       "      <td>4.130</td>\n",
       "      <td>0.664</td>\n",
       "      <td>NaN</td>\n",
       "      <td>NaN</td>\n",
       "      <td>1.2200</td>\n",
       "      <td>0.62</td>\n",
       "    </tr>\n",
       "    <tr>\n",
       "      <th>10</th>\n",
       "      <td>3.090</td>\n",
       "      <td>0.28</td>\n",
       "      <td>4.810</td>\n",
       "      <td>0.680</td>\n",
       "      <td>NaN</td>\n",
       "      <td>NaN</td>\n",
       "      <td>1.7300</td>\n",
       "      <td>0.34</td>\n",
       "    </tr>\n",
       "    <tr>\n",
       "      <th>11</th>\n",
       "      <td>4.130</td>\n",
       "      <td>0.20</td>\n",
       "      <td>5.030</td>\n",
       "      <td>0.688</td>\n",
       "      <td>NaN</td>\n",
       "      <td>NaN</td>\n",
       "      <td>2.1400</td>\n",
       "      <td>0.22</td>\n",
       "    </tr>\n",
       "    <tr>\n",
       "      <th>12</th>\n",
       "      <td>4.970</td>\n",
       "      <td>0.20</td>\n",
       "      <td>NaN</td>\n",
       "      <td>NaN</td>\n",
       "      <td>NaN</td>\n",
       "      <td>NaN</td>\n",
       "      <td>2.4600</td>\n",
       "      <td>0.14</td>\n",
       "    </tr>\n",
       "  </tbody>\n",
       "</table>\n",
       "</div>"
      ],
      "text/plain": [
       "     1a t  1a V   1c t   1c V      2a t      2a V    2b t  2b V\n",
       "0   0.000  9.80  0.000  0.360  0.000172  0.182300  0.0208  3.86\n",
       "1   0.028  9.32  0.112  0.396  0.000812  0.102500  0.0768  3.46\n",
       "2   0.068  8.68  0.192  0.416  0.001470  0.057480  0.1330  3.18\n",
       "3   0.168  7.40  0.332  0.436  0.002110  0.033270  0.1890  2.90\n",
       "4   0.208  6.92  0.632  0.484  0.002770  0.019480  0.2770  2.50\n",
       "5   0.328  5.72  1.230  0.532  0.003410  0.011550  0.3890  2.10\n",
       "6   0.508  4.36  2.050  0.584  0.004070  0.007434  0.5410  1.66\n",
       "7   0.868  2.68  2.850  0.612  0.004730  0.004547  0.7570  1.18\n",
       "8   1.290  1.56  3.390  0.640       NaN       NaN  0.9970  0.86\n",
       "9   1.850  0.76  4.130  0.664       NaN       NaN  1.2200  0.62\n",
       "10  3.090  0.28  4.810  0.680       NaN       NaN  1.7300  0.34\n",
       "11  4.130  0.20  5.030  0.688       NaN       NaN  2.1400  0.22\n",
       "12  4.970  0.20    NaN    NaN       NaN       NaN  2.4600  0.14"
      ]
     },
     "execution_count": 4,
     "metadata": {},
     "output_type": "execute_result"
    }
   ],
   "source": [
    "df = pd.read_csv(\"data/RC and RLC Circuits Data.csv\")\n",
    "df"
   ]
  },
  {
   "cell_type": "code",
   "execution_count": 7,
   "metadata": {},
   "outputs": [
    {
     "data": {
      "text/html": [
       "<div>\n",
       "<style scoped>\n",
       "    .dataframe tbody tr th:only-of-type {\n",
       "        vertical-align: middle;\n",
       "    }\n",
       "\n",
       "    .dataframe tbody tr th {\n",
       "        vertical-align: top;\n",
       "    }\n",
       "\n",
       "    .dataframe thead th {\n",
       "        text-align: right;\n",
       "    }\n",
       "</style>\n",
       "<table border=\"1\" class=\"dataframe\">\n",
       "  <thead>\n",
       "    <tr style=\"text-align: right;\">\n",
       "      <th></th>\n",
       "      <th>1a t</th>\n",
       "      <th>1a V</th>\n",
       "    </tr>\n",
       "  </thead>\n",
       "  <tbody>\n",
       "    <tr>\n",
       "      <th>0</th>\n",
       "      <td>0.000</td>\n",
       "      <td>9.80</td>\n",
       "    </tr>\n",
       "    <tr>\n",
       "      <th>1</th>\n",
       "      <td>0.028</td>\n",
       "      <td>9.32</td>\n",
       "    </tr>\n",
       "    <tr>\n",
       "      <th>2</th>\n",
       "      <td>0.068</td>\n",
       "      <td>8.68</td>\n",
       "    </tr>\n",
       "    <tr>\n",
       "      <th>3</th>\n",
       "      <td>0.168</td>\n",
       "      <td>7.40</td>\n",
       "    </tr>\n",
       "    <tr>\n",
       "      <th>4</th>\n",
       "      <td>0.208</td>\n",
       "      <td>6.92</td>\n",
       "    </tr>\n",
       "    <tr>\n",
       "      <th>5</th>\n",
       "      <td>0.328</td>\n",
       "      <td>5.72</td>\n",
       "    </tr>\n",
       "    <tr>\n",
       "      <th>6</th>\n",
       "      <td>0.508</td>\n",
       "      <td>4.36</td>\n",
       "    </tr>\n",
       "    <tr>\n",
       "      <th>7</th>\n",
       "      <td>0.868</td>\n",
       "      <td>2.68</td>\n",
       "    </tr>\n",
       "    <tr>\n",
       "      <th>8</th>\n",
       "      <td>1.290</td>\n",
       "      <td>1.56</td>\n",
       "    </tr>\n",
       "    <tr>\n",
       "      <th>9</th>\n",
       "      <td>1.850</td>\n",
       "      <td>0.76</td>\n",
       "    </tr>\n",
       "    <tr>\n",
       "      <th>10</th>\n",
       "      <td>3.090</td>\n",
       "      <td>0.28</td>\n",
       "    </tr>\n",
       "    <tr>\n",
       "      <th>11</th>\n",
       "      <td>4.130</td>\n",
       "      <td>0.20</td>\n",
       "    </tr>\n",
       "    <tr>\n",
       "      <th>12</th>\n",
       "      <td>4.970</td>\n",
       "      <td>0.20</td>\n",
       "    </tr>\n",
       "  </tbody>\n",
       "</table>\n",
       "</div>"
      ],
      "text/plain": [
       "     1a t  1a V\n",
       "0   0.000  9.80\n",
       "1   0.028  9.32\n",
       "2   0.068  8.68\n",
       "3   0.168  7.40\n",
       "4   0.208  6.92\n",
       "5   0.328  5.72\n",
       "6   0.508  4.36\n",
       "7   0.868  2.68\n",
       "8   1.290  1.56\n",
       "9   1.850  0.76\n",
       "10  3.090  0.28\n",
       "11  4.130  0.20\n",
       "12  4.970  0.20"
      ]
     },
     "execution_count": 7,
     "metadata": {},
     "output_type": "execute_result"
    }
   ],
   "source": [
    "df_1a = df[[\"1a t\", \"1a V\"]]\n",
    "df_1a"
   ]
  },
  {
   "cell_type": "code",
   "execution_count": 14,
   "metadata": {},
   "outputs": [
    {
     "data": {
      "text/plain": [
       "Text(0.5, 1.0, 'Voltage vs Time for 1a')"
      ]
     },
     "execution_count": 14,
     "metadata": {},
     "output_type": "execute_result"
    },
    {
     "data": {
      "image/png": "[encoded data removed]",
      "text/plain": [
       "<Figure size 432x288 with 1 Axes>"
      ]
     },
     "metadata": {
      "needs_background": "light"
     },
     "output_type": "display_data"
    }
   ],
   "source": [
    "plt.scatter(df_1a[\"1a t\"], df_1a[\"1a V\"], color=\"red\")\n",
    "plt.xlabel(\"Time (s)\")\n",
    "plt.ylabel(\"Voltage (V)\")\n",
    "plt.title(\"Voltage vs Time for 1a\")"
   ]
  },
  {
   "cell_type": "code",
   "execution_count": 9,
   "metadata": {},
   "outputs": [],
   "source": [
    "# the discharge function to find tau for 1a\n",
    "def discharge_func_to_fit(t, v0, tau):\n",
    "    return v0 * np.exp(-t / tau)"
   ]
  },
  {
   "cell_type": "code",
   "execution_count": 10,
   "metadata": {},
   "outputs": [
    {
     "name": "stdout",
     "output_type": "stream",
     "text": [
      "params[9.63917118 0.66106248]\n",
      "std_errs[0.09058506 0.01782095]\n"
     ]
    }
   ],
   "source": [
    "params, cov = curve_fit(discharge_func_to_fit, df_1a[\"1a t\"], df_1a[\"1a V\"])\n",
    "std_errs = np.sqrt(np.diag(cov))\n",
    "print(\"params\" + str(params))\n",
    "print(\"std_errs\" + str(std_errs))"
   ]
  },
  {
   "cell_type": "code",
   "execution_count": 18,
   "metadata": {},
   "outputs": [
    {
     "data": {
      "image/png": "[encoded data removed]",
      "text/plain": [
       "<Figure size 576x432 with 1 Axes>"
      ]
     },
     "metadata": {
      "needs_background": "light"
     },
     "output_type": "display_data"
    },
    {
     "name": "stdout",
     "output_type": "stream",
     "text": [
      "v0 = 9.639171177563526 +/- 0.09058506451905952\n",
      "tau = 0.6610624806562464 +/- 0.017820949693027176\n"
     ]
    }
   ],
   "source": [
    "ypred = discharge_func_to_fit(df_1a[\"1a t\"], *params)\n",
    "\n",
    "plt.figure(figsize=(8,6))\n",
    "plt.scatter(df_1a[\"1a t\"], df_1a[\"1a V\"], label=\"Measured Values\")\n",
    "plt.plot(df_1a[\"1a t\"], ypred, 'r-', label=\"Fitted Curve\")\n",
    "plt.legend()\n",
    "plt.xlabel(\"Time (s)\")\n",
    "plt.ylabel(\"Voltage (V)\")\n",
    "plt.title(\"Voltage vs Time curve fit\")\n",
    "plt.show()\n",
    "print(\"v0 = \" + str(params[0]) + \" +/- \" + str(std_errs[0]))\n",
    "print(\"tau = \" + str(params[1]) + \" +/- \" + str(std_errs[1]))"
   ]
  },
  {
   "cell_type": "code",
   "execution_count": null,
   "metadata": {},
   "outputs": [],
   "source": []
  },
  {
   "cell_type": "code",
   "execution_count": null,
   "metadata": {},
   "outputs": [],
   "source": []
  },
  {
   "cell_type": "code",
   "execution_count": null,
   "metadata": {},
   "outputs": [],
   "source": []
  },
  {
   "cell_type": "code",
   "execution_count": null,
   "metadata": {},
   "outputs": [],
   "source": []
  }
 ],
 "metadata": {
  "interpreter": {
   "hash": "a5ed12b88d83e9ebd9e82383ea339d23f1309bcfd653b55c7d37b011d8608c91"
  },
  "kernelspec": {
   "display_name": "Python 3.8.0 64-bit",
   "name": "python3"
  },
  "language_info": {
   "codemirror_mode": {
    "name": "ipython",
    "version": 3
   },
   "file_extension": ".py",
   "mimetype": "text/x-python",
   "name": "python",
   "nbconvert_exporter": "python",
   "pygments_lexer": "ipython3",
   "version": "3.8.0"
  },
  "orig_nbformat": 4
 },
 "nbformat": 4,
 "nbformat_minor": 2
}
