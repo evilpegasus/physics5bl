{
 "cells": [
  {
   "cell_type": "markdown",
   "source": [
    "# Lab 3\r\n",
    "Ming Fong and Max Zhao"
   ],
   "metadata": {}
  },
  {
   "cell_type": "code",
   "execution_count": 15,
   "source": [
    "import pandas as pd\r\n",
    "import numpy as np\r\n",
    "import matplotlib.pyplot as plt"
   ],
   "outputs": [],
   "metadata": {}
  },
  {
   "cell_type": "code",
   "execution_count": 7,
   "source": [
    "columns = [\"middle\",\"edge_1\",\"edge_2\"]\r\n",
    "tile_df = pd.DataFrame(columns=columns)\r\n",
    "tile_df[\"middle\"] = [30.52,30.55,30.56,30.61]\r\n",
    "tile_df[\"edge_1\"] = [1.25,1.23,1.29,1.30]\r\n",
    "tile_df[\"edge_2\"] = [30.11,29.88,30.25,30.10]\r\n",
    "\r\n",
    "tile_df"
   ],
   "outputs": [
    {
     "output_type": "execute_result",
     "data": {
      "text/html": [
       "<div>\n",
       "<style scoped>\n",
       "    .dataframe tbody tr th:only-of-type {\n",
       "        vertical-align: middle;\n",
       "    }\n",
       "\n",
       "    .dataframe tbody tr th {\n",
       "        vertical-align: top;\n",
       "    }\n",
       "\n",
       "    .dataframe thead th {\n",
       "        text-align: right;\n",
       "    }\n",
       "</style>\n",
       "<table border=\"1\" class=\"dataframe\">\n",
       "  <thead>\n",
       "    <tr style=\"text-align: right;\">\n",
       "      <th></th>\n",
       "      <th>middle</th>\n",
       "      <th>edge_1</th>\n",
       "      <th>edge_2</th>\n",
       "    </tr>\n",
       "  </thead>\n",
       "  <tbody>\n",
       "    <tr>\n",
       "      <th>0</th>\n",
       "      <td>30.52</td>\n",
       "      <td>1.25</td>\n",
       "      <td>30.11</td>\n",
       "    </tr>\n",
       "    <tr>\n",
       "      <th>1</th>\n",
       "      <td>30.55</td>\n",
       "      <td>1.23</td>\n",
       "      <td>29.88</td>\n",
       "    </tr>\n",
       "    <tr>\n",
       "      <th>2</th>\n",
       "      <td>30.56</td>\n",
       "      <td>1.29</td>\n",
       "      <td>30.25</td>\n",
       "    </tr>\n",
       "    <tr>\n",
       "      <th>3</th>\n",
       "      <td>30.61</td>\n",
       "      <td>1.30</td>\n",
       "      <td>30.10</td>\n",
       "    </tr>\n",
       "  </tbody>\n",
       "</table>\n",
       "</div>"
      ],
      "text/plain": [
       "   middle  edge_1  edge_2\n",
       "0   30.52    1.25   30.11\n",
       "1   30.55    1.23   29.88\n",
       "2   30.56    1.29   30.25\n",
       "3   30.61    1.30   30.10"
      ]
     },
     "metadata": {},
     "execution_count": 7
    }
   ],
   "metadata": {}
  },
  {
   "cell_type": "code",
   "execution_count": 8,
   "source": [
    "tile_df.mean()"
   ],
   "outputs": [
    {
     "output_type": "execute_result",
     "data": {
      "text/plain": [
       "middle    30.5600\n",
       "edge_1     1.2675\n",
       "edge_2    30.0850\n",
       "dtype: float64"
      ]
     },
     "metadata": {},
     "execution_count": 8
    }
   ],
   "metadata": {}
  },
  {
   "cell_type": "code",
   "execution_count": 10,
   "source": [
    "tile_df.std()"
   ],
   "outputs": [
    {
     "output_type": "execute_result",
     "data": {
      "text/plain": [
       "middle    0.037417\n",
       "edge_1    0.033040\n",
       "edge_2    0.152862\n",
       "dtype: float64"
      ]
     },
     "metadata": {},
     "execution_count": 10
    }
   ],
   "metadata": {}
  },
  {
   "cell_type": "code",
   "execution_count": 11,
   "source": [
    "tile_df.sem()"
   ],
   "outputs": [
    {
     "output_type": "execute_result",
     "data": {
      "text/plain": [
       "middle    0.018708\n",
       "edge_1    0.016520\n",
       "edge_2    0.076431\n",
       "dtype: float64"
      ]
     },
     "metadata": {},
     "execution_count": 11
    }
   ],
   "metadata": {}
  },
  {
   "cell_type": "markdown",
   "source": [
    "## Total width"
   ],
   "metadata": {}
  },
  {
   "cell_type": "code",
   "execution_count": 18,
   "source": [
    "def width_error_prop(a_e1, l_mid, a_n, n, a_mid, a_e2):\r\n",
    "    \"\"\"\r\n",
    "    returns alpha_l_width\r\n",
    "    \"\"\"\r\n",
    "    return np.sqrt(a_e1**2 + l_mid**2 * a_n**2 + n**2 * a_mid**2 + a_e2**2)\r\n",
    "    "
   ],
   "outputs": [],
   "metadata": {}
  },
  {
   "cell_type": "code",
   "execution_count": 19,
   "source": [
    "tile_df[\"middle\"].mean() * 16 + tile_df[\"edge_1\"].mean() + tile_df[\"edge_2\"].mean()"
   ],
   "outputs": [
    {
     "output_type": "execute_result",
     "data": {
      "text/plain": [
       "520.3125"
      ]
     },
     "metadata": {},
     "execution_count": 19
    }
   ],
   "metadata": {}
  },
  {
   "cell_type": "code",
   "execution_count": 20,
   "source": [
    "width_error_prop(tile_df[\"edge_1\"].sem(), tile_df[\"middle\"].mean(), 0, 16, tile_df[\"middle\"].sem(), tile_df.sem()[\"edge_2\"])"
   ],
   "outputs": [
    {
     "output_type": "execute_result",
     "data": {
      "text/plain": [
       "0.30937773567813925"
      ]
     },
     "metadata": {},
     "execution_count": 20
    }
   ],
   "metadata": {}
  },
  {
   "cell_type": "markdown",
   "source": [
    "# Experiment 3"
   ],
   "metadata": {}
  },
  {
   "cell_type": "code",
   "execution_count": 22,
   "source": [
    "# accepted value\r\n",
    "g_true = 9.80\r\n",
    "g_pred = 8.939\r\n",
    "a_g = 0.819\r\n",
    "abs(g_true - g_pred) < np.sqrt(a_g**2 + 0.01**2)"
   ],
   "outputs": [
    {
     "output_type": "execute_result",
     "data": {
      "text/plain": [
       "False"
      ]
     },
     "metadata": {},
     "execution_count": 22
    }
   ],
   "metadata": {}
  }
 ],
 "metadata": {
  "orig_nbformat": 4,
  "language_info": {
   "name": "python",
   "version": "3.8.0",
   "mimetype": "text/x-python",
   "codemirror_mode": {
    "name": "ipython",
    "version": 3
   },
   "pygments_lexer": "ipython3",
   "nbconvert_exporter": "python",
   "file_extension": ".py"
  },
  "kernelspec": {
   "name": "python3",
   "display_name": "Python 3.8.0 64-bit"
  },
  "interpreter": {
   "hash": "a5ed12b88d83e9ebd9e82383ea339d23f1309bcfd653b55c7d37b011d8608c91"
  }
 },
 "nbformat": 4,
 "nbformat_minor": 2
}